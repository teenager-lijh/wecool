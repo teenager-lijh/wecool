{
 "cells": [
  {
   "cell_type": "markdown",
   "source": [
    "## 面向过程编程"
   ],
   "metadata": {
    "collapsed": false
   },
   "id": "946c37b06979c54c"
  },
  {
   "cell_type": "code",
   "execution_count": 12,
   "outputs": [
    {
     "name": "stdout",
     "output_type": "stream",
     "text": [
      "55\n"
     ]
    }
   ],
   "source": [
    "# 程序 = 算法 + 数据结构\n",
    "\n",
    "data = [1, 2, 3, 4, 5, 6, 7, 8, 9, 10]\n",
    "\n",
    "\n",
    "total = 0\n",
    "for i in range(len(data)):\n",
    "    total += data[i]\n",
    "    \n",
    "print(total)"
   ],
   "metadata": {
    "collapsed": false,
    "ExecuteTime": {
     "end_time": "2024-04-12T13:14:22.658594Z",
     "start_time": "2024-04-12T13:14:22.630188Z"
    }
   },
   "id": "a05e1462ed0408ec"
  },
  {
   "cell_type": "markdown",
   "source": [
    "## Object Oriented Programming (OOP) 面向对象编程"
   ],
   "metadata": {
    "collapsed": false
   },
   "id": "c588897668909dc"
  },
  {
   "cell_type": "code",
   "execution_count": 13,
   "id": "initial_id",
   "metadata": {
    "collapsed": true,
    "ExecuteTime": {
     "end_time": "2024-04-12T13:14:22.661780Z",
     "start_time": "2024-04-12T13:14:22.635856Z"
    }
   },
   "outputs": [],
   "source": [
    "# 1. 定义对象的数据(这是一个线性数据结构)\n",
    "\n",
    "# 这是一个实例对象 object\n",
    "obj = {\n",
    "    'data': [1, 2, 3, 4, 5, 6, 7, 8, 9, 10]\n",
    "}\n",
    "\n",
    "# 定义对象所拥有的操作(算法)\n",
    "def sum_version_1(self):\n",
    "    # 用一个更原始的方法求和\n",
    "    total = 0\n",
    "    for i in range(len(self['data'])):\n",
    "        total += self['data'][i]\n",
    "        \n",
    "    return total\n",
    "        \n",
    "def sum_version_2(self):\n",
    "    total = 0\n",
    "    for item in self['data']:\n",
    "        total += item\n",
    "        \n",
    "    return total\n",
    "\n",
    "def sum_version_3(self):\n",
    "    return sum(self['data'])"
   ]
  },
  {
   "cell_type": "code",
   "execution_count": 14,
   "outputs": [
    {
     "data": {
      "text/plain": "(55, 55, 55)"
     },
     "execution_count": 14,
     "metadata": {},
     "output_type": "execute_result"
    }
   ],
   "source": [
    "sum_version_1(obj), sum_version_2(obj), sum_version_3(obj)"
   ],
   "metadata": {
    "collapsed": false,
    "ExecuteTime": {
     "end_time": "2024-04-12T13:14:22.670334Z",
     "start_time": "2024-04-12T13:14:22.640965Z"
    }
   },
   "id": "2c1a97dd2ad88016"
  },
  {
   "cell_type": "markdown",
   "source": [
    "## 进一步包装实例对象"
   ],
   "metadata": {
    "collapsed": false
   },
   "id": "2eca465ab57ce38b"
  },
  {
   "cell_type": "code",
   "execution_count": 15,
   "outputs": [
    {
     "data": {
      "text/plain": "(55, 55, 55)"
     },
     "execution_count": 15,
     "metadata": {},
     "output_type": "execute_result"
    }
   ],
   "source": [
    "# 定义对象所拥有的操作(算法)\n",
    "def sum_version_1(self):\n",
    "    # 用一个更原始的方法求和\n",
    "    total = 0\n",
    "    for i in range(len(self['data'])):\n",
    "        total += self['data'][i]\n",
    "\n",
    "    return total\n",
    "\n",
    "def sum_version_2(self):\n",
    "    total = 0\n",
    "    for item in self['data']:\n",
    "        total += item\n",
    "\n",
    "    return total\n",
    "\n",
    "def sum_version_3(self):\n",
    "    return sum(self['data'])\n",
    "\n",
    "# 这是一个实例对象\n",
    "obj = {\n",
    "    'data': [1, 2, 3, 4, 5, 6, 7, 8, 9, 10],\n",
    "    'sum_version_1': sum_version_1,\n",
    "    'sum_version_2': sum_version_2,\n",
    "    'sum_version_3': sum_version_3\n",
    "}\n",
    "\n",
    "obj['sum_version_1'](obj), obj['sum_version_2'](obj), obj['sum_version_3'](obj)"
   ],
   "metadata": {
    "collapsed": false,
    "ExecuteTime": {
     "end_time": "2024-04-12T13:14:22.686430Z",
     "start_time": "2024-04-12T13:14:22.650054Z"
    }
   },
   "id": "f67e5a61d57cee00"
  },
  {
   "cell_type": "markdown",
   "source": [
    "## 生产实例对象的对象叫做类对象"
   ],
   "metadata": {
    "collapsed": false
   },
   "id": "d1f6848d032423d"
  },
  {
   "cell_type": "code",
   "execution_count": 16,
   "outputs": [
    {
     "name": "stdout",
     "output_type": "stream",
     "text": [
      "111\n",
      "<__main__.Obj object at 0x118587670>\n"
     ]
    },
    {
     "data": {
      "text/plain": "(55, 55, 55)"
     },
     "execution_count": 16,
     "metadata": {},
     "output_type": "execute_result"
    }
   ],
   "source": [
    "class Obj:\n",
    "    def __init__(self):\n",
    "        self.data = [1, 2, 3, 4, 5, 6, 7, 8, 9, 10]\n",
    "\n",
    "    def sum_version_1(self, n):\n",
    "        # 用一个更原始的方法求和\n",
    "        total = 0\n",
    "        for i in range(len(self.data)):\n",
    "            total += self.data[i]\n",
    "            \n",
    "        print(n)\n",
    "        print(self)\n",
    "    \n",
    "        return total\n",
    "    \n",
    "    def sum_version_2(self):\n",
    "        total = 0\n",
    "        for item in self.data:\n",
    "            total += item\n",
    "    \n",
    "        return total\n",
    "    \n",
    "    def sum_version_3(self):\n",
    "        return sum(self.data)\n",
    "    \n",
    "obj = Obj()\n",
    "obj.sum_version_1(111), obj.sum_version_2(), obj.sum_version_3()"
   ],
   "metadata": {
    "collapsed": false,
    "ExecuteTime": {
     "end_time": "2024-04-12T13:14:22.687462Z",
     "start_time": "2024-04-12T13:14:22.657353Z"
    }
   },
   "id": "2f6086085e838ebf"
  },
  {
   "cell_type": "markdown",
   "source": [
    "## Linear from Scratch"
   ],
   "metadata": {
    "collapsed": false
   },
   "id": "48fc0d1dd6ca2479"
  },
  {
   "cell_type": "code",
   "execution_count": 16,
   "outputs": [],
   "source": [],
   "metadata": {
    "collapsed": false,
    "ExecuteTime": {
     "end_time": "2024-04-12T13:14:22.687767Z",
     "start_time": "2024-04-12T13:14:22.660822Z"
    }
   },
   "id": "7ce889b1d998cedd"
  }
 ],
 "metadata": {
  "kernelspec": {
   "display_name": "Python 3",
   "language": "python",
   "name": "python3"
  },
  "language_info": {
   "codemirror_mode": {
    "name": "ipython",
    "version": 2
   },
   "file_extension": ".py",
   "mimetype": "text/x-python",
   "name": "python",
   "nbconvert_exporter": "python",
   "pygments_lexer": "ipython2",
   "version": "2.7.6"
  }
 },
 "nbformat": 4,
 "nbformat_minor": 5
}
