{
 "cells": [
  {
   "cell_type": "markdown",
   "source": [
    "## Broadcast Mechanism 广播机制"
   ],
   "metadata": {
    "collapsed": false
   },
   "id": "e27079bef1e08634"
  },
  {
   "cell_type": "code",
   "execution_count": 8,
   "id": "initial_id",
   "metadata": {
    "collapsed": true,
    "ExecuteTime": {
     "end_time": "2024-04-11T03:13:15.364466Z",
     "start_time": "2024-04-11T03:13:15.344536Z"
    }
   },
   "outputs": [],
   "source": [
    "import torch\n",
    "\n",
    "X = torch.ones(size=(8, 512, 512))\n",
    "weights = torch.ones(size=(512, 512)) * 3"
   ]
  },
  {
   "cell_type": "code",
   "execution_count": 9,
   "outputs": [],
   "source": [
    "outputs = X * weights"
   ],
   "metadata": {
    "collapsed": false,
    "ExecuteTime": {
     "end_time": "2024-04-11T03:13:15.364610Z",
     "start_time": "2024-04-11T03:13:15.350148Z"
    }
   },
   "id": "d3c4674956eadc8f"
  },
  {
   "cell_type": "code",
   "execution_count": 10,
   "outputs": [
    {
     "data": {
      "text/plain": "tensor([[3., 3., 3.,  ..., 3., 3., 3.],\n        [3., 3., 3.,  ..., 3., 3., 3.],\n        [3., 3., 3.,  ..., 3., 3., 3.],\n        ...,\n        [3., 3., 3.,  ..., 3., 3., 3.],\n        [3., 3., 3.,  ..., 3., 3., 3.],\n        [3., 3., 3.,  ..., 3., 3., 3.]])"
     },
     "execution_count": 10,
     "metadata": {},
     "output_type": "execute_result"
    }
   ],
   "source": [
    "outputs[0]"
   ],
   "metadata": {
    "collapsed": false,
    "ExecuteTime": {
     "end_time": "2024-04-11T03:13:15.387264Z",
     "start_time": "2024-04-11T03:13:15.354733Z"
    }
   },
   "id": "d5ec7c645bbeb7bb"
  },
  {
   "cell_type": "code",
   "execution_count": 11,
   "outputs": [
    {
     "data": {
      "text/plain": "tensor([[3., 3., 3.,  ..., 3., 3., 3.],\n        [3., 3., 3.,  ..., 3., 3., 3.],\n        [3., 3., 3.,  ..., 3., 3., 3.],\n        ...,\n        [3., 3., 3.,  ..., 3., 3., 3.],\n        [3., 3., 3.,  ..., 3., 3., 3.],\n        [3., 3., 3.,  ..., 3., 3., 3.]])"
     },
     "execution_count": 11,
     "metadata": {},
     "output_type": "execute_result"
    }
   ],
   "source": [
    "outputs[1]"
   ],
   "metadata": {
    "collapsed": false,
    "ExecuteTime": {
     "end_time": "2024-04-11T03:13:15.390841Z",
     "start_time": "2024-04-11T03:13:15.359989Z"
    }
   },
   "id": "510c917262952a02"
  },
  {
   "cell_type": "markdown",
   "source": [
    "## 广播机制在反向传播中起到的作用"
   ],
   "metadata": {
    "collapsed": false
   },
   "id": "49b206816844b7d9"
  },
  {
   "cell_type": "code",
   "execution_count": 12,
   "outputs": [],
   "source": [
    "from torch import nn\n",
    "\n",
    "X = torch.ones(size=(8, 512, 512))\n",
    "weights = nn.Parameter(torch.ones(size=(512, 512)) * 3)\n",
    "\n",
    "outputs = X * weights\n",
    "outputs = outputs.sum()\n",
    "outputs.backward()"
   ],
   "metadata": {
    "collapsed": false,
    "ExecuteTime": {
     "end_time": "2024-04-11T03:13:15.391576Z",
     "start_time": "2024-04-11T03:13:15.364020Z"
    }
   },
   "id": "bf678b382cd262b"
  },
  {
   "cell_type": "code",
   "execution_count": 16,
   "outputs": [
    {
     "data": {
      "text/plain": "tensor([[8., 8., 8.,  ..., 8., 8., 8.],\n        [8., 8., 8.,  ..., 8., 8., 8.],\n        [8., 8., 8.,  ..., 8., 8., 8.],\n        ...,\n        [8., 8., 8.,  ..., 8., 8., 8.],\n        [8., 8., 8.,  ..., 8., 8., 8.],\n        [8., 8., 8.,  ..., 8., 8., 8.]])"
     },
     "execution_count": 16,
     "metadata": {},
     "output_type": "execute_result"
    }
   ],
   "source": [
    "# 每个位置的偏导数是 8 而不是 1, 应用到了梯度累加的机制\n",
    "weights.grad.data"
   ],
   "metadata": {
    "collapsed": false,
    "ExecuteTime": {
     "end_time": "2024-04-11T03:14:31.932603Z",
     "start_time": "2024-04-11T03:14:31.922351Z"
    }
   },
   "id": "3f8ffcad2a8e0fd"
  },
  {
   "cell_type": "code",
   "execution_count": 17,
   "outputs": [
    {
     "data": {
      "text/plain": "tensor([[16., 16., 16.,  ..., 16., 16., 16.],\n        [16., 16., 16.,  ..., 16., 16., 16.],\n        [16., 16., 16.,  ..., 16., 16., 16.],\n        ...,\n        [16., 16., 16.,  ..., 16., 16., 16.],\n        [16., 16., 16.,  ..., 16., 16., 16.],\n        [16., 16., 16.,  ..., 16., 16., 16.]])"
     },
     "execution_count": 17,
     "metadata": {},
     "output_type": "execute_result"
    }
   ],
   "source": [
    "# 再尝试将 batch_size 修改为 16\n",
    "\n",
    "X = torch.ones(size=(16, 512, 512))\n",
    "weights = nn.Parameter(torch.ones(size=(512, 512)) * 3)\n",
    "\n",
    "outputs = X * weights\n",
    "outputs = outputs.sum()\n",
    "outputs.backward()\n",
    "\n",
    "weights.grad.data"
   ],
   "metadata": {
    "collapsed": false,
    "ExecuteTime": {
     "end_time": "2024-04-11T03:15:03.571245Z",
     "start_time": "2024-04-11T03:15:03.545059Z"
    }
   },
   "id": "17a1c837b0fa5639"
  }
 ],
 "metadata": {
  "kernelspec": {
   "display_name": "Python 3",
   "language": "python",
   "name": "python3"
  },
  "language_info": {
   "codemirror_mode": {
    "name": "ipython",
    "version": 2
   },
   "file_extension": ".py",
   "mimetype": "text/x-python",
   "name": "python",
   "nbconvert_exporter": "python",
   "pygments_lexer": "ipython2",
   "version": "2.7.6"
  }
 },
 "nbformat": 4,
 "nbformat_minor": 5
}
