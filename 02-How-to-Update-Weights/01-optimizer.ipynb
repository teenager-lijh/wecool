{
 "cells": [
  {
   "cell_type": "code",
   "execution_count": 10,
   "outputs": [],
   "source": [
    "import torch\n",
    "from torch import nn\n",
    "from torch import optim"
   ],
   "metadata": {
    "collapsed": false,
    "ExecuteTime": {
     "end_time": "2024-04-24T12:30:13.934698Z",
     "start_time": "2024-04-24T12:30:13.903767Z"
    }
   },
   "id": "735c101a032cdb6a"
  },
  {
   "cell_type": "code",
   "execution_count": 11,
   "outputs": [],
   "source": [
    "# 创建模型\n",
    "net = nn.Linear(1024, 512)\n",
    "\n",
    "# 创建优化器 -> 让你更方便的更新权重\n",
    "optimizer = optim.SGD(net.parameters(), lr=1)"
   ],
   "metadata": {
    "collapsed": false,
    "ExecuteTime": {
     "end_time": "2024-04-24T12:30:13.957532Z",
     "start_time": "2024-04-24T12:30:13.910155Z"
    }
   },
   "id": "cdde87ef44063c10"
  },
  {
   "cell_type": "markdown",
   "source": [
    "## 构造一个输入"
   ],
   "metadata": {
    "collapsed": false
   },
   "id": "ae8cb67da7fb73e2"
  },
  {
   "cell_type": "code",
   "execution_count": 12,
   "outputs": [],
   "source": [
    "inputs = torch.ones(size=(8, 1024))"
   ],
   "metadata": {
    "collapsed": false,
    "ExecuteTime": {
     "end_time": "2024-04-24T12:30:13.959295Z",
     "start_time": "2024-04-24T12:30:13.916263Z"
    }
   },
   "id": "b66a7fc871718bf0"
  },
  {
   "cell_type": "code",
   "execution_count": 13,
   "outputs": [
    {
     "name": "stdout",
     "output_type": "stream",
     "text": [
      "torch.Size([8, 512])\n",
      "torch.Size([])\n"
     ]
    }
   ],
   "source": [
    "outputs = net(inputs)\n",
    "print(outputs.shape)\n",
    "outputs = outputs.sum()\n",
    "print(outputs.shape)\n",
    "outputs.backward()"
   ],
   "metadata": {
    "collapsed": false,
    "ExecuteTime": {
     "end_time": "2024-04-24T12:30:13.989652Z",
     "start_time": "2024-04-24T12:30:13.919618Z"
    }
   },
   "id": "5228c15fbe38f30d"
  },
  {
   "cell_type": "markdown",
   "source": [
    "## 看看权重是否发生了变化"
   ],
   "metadata": {
    "collapsed": false
   },
   "id": "a10bb9bae519c8a0"
  },
  {
   "cell_type": "code",
   "execution_count": 14,
   "outputs": [
    {
     "data": {
      "text/plain": "torch.Size([512, 1024])"
     },
     "execution_count": 14,
     "metadata": {},
     "output_type": "execute_result"
    }
   ],
   "source": [
    "net.weight.shape"
   ],
   "metadata": {
    "collapsed": false,
    "ExecuteTime": {
     "end_time": "2024-04-24T12:30:14.000696Z",
     "start_time": "2024-04-24T12:30:13.926027Z"
    }
   },
   "id": "bdf28dc049627f95"
  },
  {
   "cell_type": "code",
   "execution_count": 15,
   "outputs": [
    {
     "name": "stdout",
     "output_type": "stream",
     "text": [
      "tensor(-0.0185, grad_fn=<SelectBackward0>) tensor(8.)\n"
     ]
    }
   ],
   "source": [
    "print(net.weight[0][0], net.weight.grad[0][0])"
   ],
   "metadata": {
    "collapsed": false,
    "ExecuteTime": {
     "end_time": "2024-04-24T12:30:14.002770Z",
     "start_time": "2024-04-24T12:30:13.929567Z"
    }
   },
   "id": "564b210fa539336d"
  },
  {
   "cell_type": "code",
   "execution_count": 16,
   "outputs": [],
   "source": [
    "optimizer.step()  # 更新权重"
   ],
   "metadata": {
    "collapsed": false,
    "ExecuteTime": {
     "end_time": "2024-04-24T12:30:14.003184Z",
     "start_time": "2024-04-24T12:30:13.934451Z"
    }
   },
   "id": "79d344627ddc7ce7"
  },
  {
   "cell_type": "markdown",
   "source": [
    "## 看看权重变成了什么"
   ],
   "metadata": {
    "collapsed": false
   },
   "id": "f2c1a900d67f2ee5"
  },
  {
   "cell_type": "code",
   "execution_count": 17,
   "outputs": [
    {
     "name": "stdout",
     "output_type": "stream",
     "text": [
      "tensor(-8.0185, grad_fn=<SelectBackward0>) tensor(8.)\n"
     ]
    }
   ],
   "source": [
    "print(net.weight[0][0], net.weight.grad[0][0])"
   ],
   "metadata": {
    "collapsed": false,
    "ExecuteTime": {
     "end_time": "2024-04-24T12:30:14.003593Z",
     "start_time": "2024-04-24T12:30:13.938835Z"
    }
   },
   "id": "c945c18036a5d90f"
  },
  {
   "cell_type": "markdown",
   "source": [
    "## 如何让梯度置零"
   ],
   "metadata": {
    "collapsed": false
   },
   "id": "9d5ea13618e16793"
  },
  {
   "cell_type": "code",
   "execution_count": 18,
   "outputs": [
    {
     "name": "stdout",
     "output_type": "stream",
     "text": [
      "tensor(-8.0185, grad_fn=<SelectBackward0>) tensor(0.)\n"
     ]
    }
   ],
   "source": [
    "optimizer.zero_grad()\n",
    "print(net.weight[0][0], net.weight.grad[0][0])"
   ],
   "metadata": {
    "collapsed": false,
    "ExecuteTime": {
     "end_time": "2024-04-24T12:30:14.003684Z",
     "start_time": "2024-04-24T12:30:13.942549Z"
    }
   },
   "id": "d96019818bd1ffd8"
  }
 ],
 "metadata": {
  "kernelspec": {
   "display_name": "Python 3",
   "language": "python",
   "name": "python3"
  },
  "language_info": {
   "codemirror_mode": {
    "name": "ipython",
    "version": 2
   },
   "file_extension": ".py",
   "mimetype": "text/x-python",
   "name": "python",
   "nbconvert_exporter": "python",
   "pygments_lexer": "ipython2",
   "version": "2.7.6"
  }
 },
 "nbformat": 4,
 "nbformat_minor": 5
}
