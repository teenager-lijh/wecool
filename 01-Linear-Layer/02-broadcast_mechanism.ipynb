{
 "cells": [
  {
   "cell_type": "markdown",
   "source": [
    "## Broadcast Mechanism 广播机制"
   ],
   "metadata": {
    "collapsed": false
   },
   "id": "e27079bef1e08634"
  },
  {
   "cell_type": "code",
   "execution_count": 50,
   "id": "initial_id",
   "metadata": {
    "collapsed": true,
    "ExecuteTime": {
     "end_time": "2024-04-12T12:57:59.184527Z",
     "start_time": "2024-04-12T12:57:59.149958Z"
    }
   },
   "outputs": [],
   "source": [
    "import torch\n",
    "\n",
    "X = torch.ones(size=(8, 512, 512))\n",
    "weights = torch.ones(size=(512, 512)) * 3  # 不可微分的"
   ]
  },
  {
   "cell_type": "code",
   "execution_count": 51,
   "outputs": [
    {
     "data": {
      "text/plain": "torch.Size([8, 512, 512])"
     },
     "execution_count": 51,
     "metadata": {},
     "output_type": "execute_result"
    }
   ],
   "source": [
    "outputs = X * weights\n",
    "outputs.shape"
   ],
   "metadata": {
    "collapsed": false,
    "ExecuteTime": {
     "end_time": "2024-04-12T12:57:59.184775Z",
     "start_time": "2024-04-12T12:57:59.155076Z"
    }
   },
   "id": "d3c4674956eadc8f"
  },
  {
   "cell_type": "code",
   "execution_count": 52,
   "outputs": [
    {
     "data": {
      "text/plain": "tensor([[3., 3., 3.,  ..., 3., 3., 3.],\n        [3., 3., 3.,  ..., 3., 3., 3.],\n        [3., 3., 3.,  ..., 3., 3., 3.],\n        ...,\n        [3., 3., 3.,  ..., 3., 3., 3.],\n        [3., 3., 3.,  ..., 3., 3., 3.],\n        [3., 3., 3.,  ..., 3., 3., 3.]])"
     },
     "execution_count": 52,
     "metadata": {},
     "output_type": "execute_result"
    }
   ],
   "source": [
    "outputs[0]"
   ],
   "metadata": {
    "collapsed": false,
    "ExecuteTime": {
     "end_time": "2024-04-12T12:57:59.206829Z",
     "start_time": "2024-04-12T12:57:59.159211Z"
    }
   },
   "id": "d5ec7c645bbeb7bb"
  },
  {
   "cell_type": "code",
   "execution_count": 53,
   "outputs": [
    {
     "data": {
      "text/plain": "tensor([[3., 3., 3.,  ..., 3., 3., 3.],\n        [3., 3., 3.,  ..., 3., 3., 3.],\n        [3., 3., 3.,  ..., 3., 3., 3.],\n        ...,\n        [3., 3., 3.,  ..., 3., 3., 3.],\n        [3., 3., 3.,  ..., 3., 3., 3.],\n        [3., 3., 3.,  ..., 3., 3., 3.]])"
     },
     "execution_count": 53,
     "metadata": {},
     "output_type": "execute_result"
    }
   ],
   "source": [
    "outputs[1]"
   ],
   "metadata": {
    "collapsed": false,
    "ExecuteTime": {
     "end_time": "2024-04-12T12:57:59.207255Z",
     "start_time": "2024-04-12T12:57:59.165968Z"
    }
   },
   "id": "510c917262952a02"
  },
  {
   "cell_type": "markdown",
   "source": [
    "## 广播机制在反向传播中起到的作用"
   ],
   "metadata": {
    "collapsed": false
   },
   "id": "49b206816844b7d9"
  },
  {
   "cell_type": "code",
   "execution_count": 54,
   "outputs": [
    {
     "name": "stdout",
     "output_type": "stream",
     "text": [
      "torch.Size([2, 512, 512])\n",
      "torch.Size([]) <class 'torch.Tensor'>\n"
     ]
    }
   ],
   "source": [
    "from torch import nn\n",
    "\n",
    "\n",
    "# 666 666 | 666 666           1  1 |  1  1     8*666\n",
    "# 666 666 | 666 666           1  1 |  1  1\n",
    "\n",
    "# batch_size = 8\n",
    "X = torch.ones(size=(2, 512, 512))\n",
    "weights = nn.Parameter(torch.ones(size=(512, 512)) * 666)\n",
    "\n",
    "\n",
    "outputs = X * weights\n",
    "print(outputs.shape)\n",
    "outputs = outputs.sum()\n",
    "print(outputs.shape, type(outputs))\n",
    "outputs.backward()"
   ],
   "metadata": {
    "collapsed": false,
    "ExecuteTime": {
     "end_time": "2024-04-12T12:57:59.207596Z",
     "start_time": "2024-04-12T12:57:59.173270Z"
    }
   },
   "id": "bf678b382cd262b"
  },
  {
   "cell_type": "code",
   "execution_count": 55,
   "outputs": [
    {
     "data": {
      "text/plain": "tensor([[2., 2., 2.,  ..., 2., 2., 2.],\n        [2., 2., 2.,  ..., 2., 2., 2.],\n        [2., 2., 2.,  ..., 2., 2., 2.],\n        ...,\n        [2., 2., 2.,  ..., 2., 2., 2.],\n        [2., 2., 2.,  ..., 2., 2., 2.],\n        [2., 2., 2.,  ..., 2., 2., 2.]])"
     },
     "execution_count": 55,
     "metadata": {},
     "output_type": "execute_result"
    }
   ],
   "source": [
    "# 每个位置的偏导数是 8 而不是 1, 应用到了梯度累加的机制\n",
    "weights.grad.data"
   ],
   "metadata": {
    "collapsed": false,
    "ExecuteTime": {
     "end_time": "2024-04-12T12:57:59.207659Z",
     "start_time": "2024-04-12T12:57:59.176567Z"
    }
   },
   "id": "3f8ffcad2a8e0fd"
  },
  {
   "cell_type": "code",
   "execution_count": 56,
   "outputs": [
    {
     "data": {
      "text/plain": "tensor([[16., 16., 16.,  ..., 16., 16., 16.],\n        [16., 16., 16.,  ..., 16., 16., 16.],\n        [16., 16., 16.,  ..., 16., 16., 16.],\n        ...,\n        [16., 16., 16.,  ..., 16., 16., 16.],\n        [16., 16., 16.,  ..., 16., 16., 16.],\n        [16., 16., 16.,  ..., 16., 16., 16.]])"
     },
     "execution_count": 56,
     "metadata": {},
     "output_type": "execute_result"
    }
   ],
   "source": [
    "# 再尝试将 batch_size 修改为 16\n",
    "\n",
    "X = torch.ones(size=(16, 512, 512))\n",
    "weights = nn.Parameter(torch.ones(size=(512, 512)) * 3)\n",
    "\n",
    "outputs = X * weights\n",
    "outputs = outputs.sum()\n",
    "outputs.backward()\n",
    "\n",
    "weights.grad.data"
   ],
   "metadata": {
    "collapsed": false,
    "ExecuteTime": {
     "end_time": "2024-04-12T12:57:59.208315Z",
     "start_time": "2024-04-12T12:57:59.182562Z"
    }
   },
   "id": "17a1c837b0fa5639"
  }
 ],
 "metadata": {
  "kernelspec": {
   "display_name": "Python 3",
   "language": "python",
   "name": "python3"
  },
  "language_info": {
   "codemirror_mode": {
    "name": "ipython",
    "version": 2
   },
   "file_extension": ".py",
   "mimetype": "text/x-python",
   "name": "python",
   "nbconvert_exporter": "python",
   "pygments_lexer": "ipython2",
   "version": "2.7.6"
  }
 },
 "nbformat": 4,
 "nbformat_minor": 5
}
