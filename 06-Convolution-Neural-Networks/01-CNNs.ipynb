{
 "cells": [
  {
   "cell_type": "code",
   "execution_count": 16,
   "id": "initial_id",
   "metadata": {
    "collapsed": true,
    "ExecuteTime": {
     "end_time": "2024-04-24T13:48:04.514071Z",
     "start_time": "2024-04-24T13:48:04.511665Z"
    }
   },
   "outputs": [],
   "source": [
    "import torch\n",
    "from torch import nn"
   ]
  },
  {
   "cell_type": "code",
   "execution_count": 17,
   "outputs": [],
   "source": [
    "inputs = torch.rand(size=(8, 3, 4, 4))"
   ],
   "metadata": {
    "collapsed": false,
    "ExecuteTime": {
     "end_time": "2024-04-24T13:48:04.524335Z",
     "start_time": "2024-04-24T13:48:04.516113Z"
    }
   },
   "id": "dbc05c5411dbe0d2"
  },
  {
   "cell_type": "code",
   "execution_count": 18,
   "outputs": [
    {
     "data": {
      "text/plain": "torch.Size([8, 16, 2, 2])"
     },
     "execution_count": 18,
     "metadata": {},
     "output_type": "execute_result"
    }
   ],
   "source": [
    "# 0 0 0 0 0 0 \n",
    "# 0 1 1 1 1 0\n",
    "# 0 1 1 1 1 0\n",
    "# 0 1 1 1 1 0\n",
    "# 0 1 1 1 1 0\n",
    "# 0 0 0 0 0 0\n",
    "\n",
    "conv1 = nn.Conv2d(in_channels=3, out_channels=16, kernel_size=3, stride=1)\n",
    "outputs = conv1(inputs)\n",
    "outputs.shape"
   ],
   "metadata": {
    "collapsed": false,
    "ExecuteTime": {
     "end_time": "2024-04-24T13:48:04.532044Z",
     "start_time": "2024-04-24T13:48:04.519060Z"
    }
   },
   "id": "c15987a5c1831a76"
  },
  {
   "cell_type": "code",
   "execution_count": 19,
   "outputs": [
    {
     "data": {
      "text/plain": "torch.Size([8, 16, 4, 4])"
     },
     "execution_count": 19,
     "metadata": {},
     "output_type": "execute_result"
    }
   ],
   "source": [
    "conv2 = nn.Conv2d(in_channels=3, out_channels=16, kernel_size=3, stride=1, padding=1)\n",
    "outputs = conv2(inputs)\n",
    "outputs.shape"
   ],
   "metadata": {
    "collapsed": false,
    "ExecuteTime": {
     "end_time": "2024-04-24T13:48:04.533411Z",
     "start_time": "2024-04-24T13:48:04.528878Z"
    }
   },
   "id": "f23847a4dd29c70c"
  },
  {
   "cell_type": "code",
   "execution_count": 20,
   "outputs": [
    {
     "data": {
      "text/plain": "torch.Size([8, 6, 2, 2])"
     },
     "execution_count": 20,
     "metadata": {},
     "output_type": "execute_result"
    }
   ],
   "source": [
    "conv3 = nn.Conv2d(in_channels=3, out_channels=6, kernel_size=2, stride=2)\n",
    "outputs = conv3(inputs)\n",
    "outputs.shape"
   ],
   "metadata": {
    "collapsed": false,
    "ExecuteTime": {
     "end_time": "2024-04-24T13:48:04.546596Z",
     "start_time": "2024-04-24T13:48:04.535414Z"
    }
   },
   "id": "cb31efbffc433ee8"
  },
  {
   "cell_type": "code",
   "execution_count": 20,
   "outputs": [],
   "source": [],
   "metadata": {
    "collapsed": false,
    "ExecuteTime": {
     "end_time": "2024-04-24T13:48:04.546776Z",
     "start_time": "2024-04-24T13:48:04.538859Z"
    }
   },
   "id": "7933d60072b2be5e"
  }
 ],
 "metadata": {
  "kernelspec": {
   "display_name": "Python 3",
   "language": "python",
   "name": "python3"
  },
  "language_info": {
   "codemirror_mode": {
    "name": "ipython",
    "version": 2
   },
   "file_extension": ".py",
   "mimetype": "text/x-python",
   "name": "python",
   "nbconvert_exporter": "python",
   "pygments_lexer": "ipython2",
   "version": "2.7.6"
  }
 },
 "nbformat": 4,
 "nbformat_minor": 5
}
