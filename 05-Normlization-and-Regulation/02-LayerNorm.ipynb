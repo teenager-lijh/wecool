{
 "cells": [
  {
   "cell_type": "code",
   "execution_count": 45,
   "id": "initial_id",
   "metadata": {
    "collapsed": true,
    "ExecuteTime": {
     "end_time": "2024-04-23T11:50:04.744936Z",
     "start_time": "2024-04-23T11:50:04.711583Z"
    }
   },
   "outputs": [
    {
     "data": {
      "text/plain": "(tensor(0.5000), tensor(0.0834))"
     },
     "execution_count": 45,
     "metadata": {},
     "output_type": "execute_result"
    }
   ],
   "source": [
    "import torch\n",
    "from torch import nn\n",
    "\n",
    "inputs = torch.rand(size=(32, 3, 224, 224))\n",
    "torch.mean(inputs), torch.var(inputs)"
   ]
  },
  {
   "cell_type": "code",
   "execution_count": 46,
   "outputs": [],
   "source": [
    "ln = nn.LayerNorm([3, 224, 224])"
   ],
   "metadata": {
    "collapsed": false,
    "ExecuteTime": {
     "end_time": "2024-04-23T11:50:04.756512Z",
     "start_time": "2024-04-23T11:50:04.747448Z"
    }
   },
   "id": "961698f7c9f02f0e"
  },
  {
   "cell_type": "code",
   "execution_count": 47,
   "outputs": [],
   "source": [
    "outputs = ln(inputs)"
   ],
   "metadata": {
    "collapsed": false,
    "ExecuteTime": {
     "end_time": "2024-04-23T11:50:04.756942Z",
     "start_time": "2024-04-23T11:50:04.750951Z"
    }
   },
   "id": "60954a5a918070b7"
  },
  {
   "cell_type": "code",
   "execution_count": 48,
   "outputs": [
    {
     "data": {
      "text/plain": "(tensor(-1.4567e-07, grad_fn=<MeanBackward0>),\n tensor(0.9999, grad_fn=<VarBackward0>))"
     },
     "execution_count": 48,
     "metadata": {},
     "output_type": "execute_result"
    }
   ],
   "source": [
    "torch.mean(outputs[0]), torch.var(outputs[0])"
   ],
   "metadata": {
    "collapsed": false,
    "ExecuteTime": {
     "end_time": "2024-04-23T11:50:04.766260Z",
     "start_time": "2024-04-23T11:50:04.756855Z"
    }
   },
   "id": "439e11a6c00873bf"
  },
  {
   "cell_type": "code",
   "execution_count": 49,
   "outputs": [
    {
     "data": {
      "text/plain": "(tensor(-6.6092e-08, grad_fn=<MeanBackward0>),\n tensor(0.9999, grad_fn=<VarBackward0>))"
     },
     "execution_count": 49,
     "metadata": {},
     "output_type": "execute_result"
    }
   ],
   "source": [
    "torch.mean(outputs[1]), torch.var(outputs[1])"
   ],
   "metadata": {
    "collapsed": false,
    "ExecuteTime": {
     "end_time": "2024-04-23T11:50:04.766437Z",
     "start_time": "2024-04-23T11:50:04.761839Z"
    }
   },
   "id": "b88add8f9400bfe1"
  }
 ],
 "metadata": {
  "kernelspec": {
   "display_name": "Python 3",
   "language": "python",
   "name": "python3"
  },
  "language_info": {
   "codemirror_mode": {
    "name": "ipython",
    "version": 2
   },
   "file_extension": ".py",
   "mimetype": "text/x-python",
   "name": "python",
   "nbconvert_exporter": "python",
   "pygments_lexer": "ipython2",
   "version": "2.7.6"
  }
 },
 "nbformat": 4,
 "nbformat_minor": 5
}
