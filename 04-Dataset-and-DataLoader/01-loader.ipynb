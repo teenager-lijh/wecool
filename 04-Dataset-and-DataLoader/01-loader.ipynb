{
 "cells": [
  {
   "cell_type": "markdown",
   "source": [
    "## MINIST 手写数字识别数据集"
   ],
   "metadata": {
    "collapsed": false
   },
   "id": "261462bc2e9c3137"
  },
  {
   "cell_type": "code",
   "execution_count": 1,
   "id": "initial_id",
   "metadata": {
    "collapsed": true,
    "ExecuteTime": {
     "end_time": "2024-05-25T06:44:07.586578Z",
     "start_time": "2024-05-25T06:44:06.786486Z"
    }
   },
   "outputs": [],
   "source": [
    "import torch\n",
    "from torchvision import datasets, transforms\n",
    "from torch.utils.data import DataLoader\n",
    "\n",
    "# 定义数据预处理\n",
    "transform = transforms.Compose([\n",
    "    transforms.ToTensor(), # 将数据转换为Tensor格式\n",
    "    transforms.Normalize((0.5,), (0.5,)) # 对图像进行标准化\n",
    "])\n",
    "\n",
    "# 加载训练集\n",
    "train_dataset = datasets.MNIST(root='./dataset', train=True, transform=transform, download=True)\n",
    "\n",
    "# 创建训练集数据加载器\n",
    "train_loader = DataLoader(train_dataset, batch_size=64, shuffle=True)\n",
    "\n",
    "# 加载测试集\n",
    "test_dataset = datasets.MNIST(root='./dataset', train=False, transform=transform, download=True)\n",
    "\n",
    "# 创建测试集数据加载器\n",
    "test_loader = DataLoader(test_dataset, batch_size=64, shuffle=False)"
   ]
  },
  {
   "cell_type": "code",
   "execution_count": 2,
   "outputs": [
    {
     "name": "stdout",
     "output_type": "stream",
     "text": [
      "images shape : torch.Size([64, 1, 28, 28])\n",
      "labels shape : torch.Size([64])\n"
     ]
    }
   ],
   "source": [
    "for images, labels in train_loader:\n",
    "    print(f'images shape : {images.shape}')\n",
    "    print(f'labels shape : {labels.shape}')\n",
    "    break"
   ],
   "metadata": {
    "collapsed": false,
    "ExecuteTime": {
     "end_time": "2024-05-25T06:44:07.646321Z",
     "start_time": "2024-05-25T06:44:07.587203Z"
    }
   },
   "id": "335e471c9a292172"
  },
  {
   "cell_type": "markdown",
   "source": [
    "## 重新实现数据集和数据集加载器\n",
    "\n",
    "加载汽车图像分割数据集"
   ],
   "metadata": {
    "collapsed": false
   },
   "id": "b521192d7f60aa6b"
  },
  {
   "cell_type": "code",
   "execution_count": 3,
   "outputs": [],
   "source": [
    "from torch import nn\n",
    "from torch.utils.data import Dataset\n",
    "\n",
    "\n",
    "# 想要自己实现一个 PyTorch 中可用的数据集\n",
    "# 就要继承 Dataset 并且实现 __getitem__ && __len__ 两个方法\n",
    "class TemplateDataset(Dataset):\n",
    "    def __init__(self):\n",
    "        super().__init__()\n",
    "        \n",
    "        \n",
    "        \n",
    "    def __len__(self):\n",
    "        pass\n",
    "        \n",
    "    def __getitem__(self, i):\n",
    "        pass"
   ],
   "metadata": {
    "collapsed": false,
    "ExecuteTime": {
     "end_time": "2024-05-25T06:44:07.646485Z",
     "start_time": "2024-05-25T06:44:07.611875Z"
    }
   },
   "id": "f14368262bb45e5"
  },
  {
   "cell_type": "code",
   "execution_count": 4,
   "outputs": [],
   "source": [
    "import os\n",
    "from PIL import Image\n",
    "import numpy as np\n",
    "\n",
    "\n",
    "class BasicDataset(Dataset):\n",
    "    def __init__(self, data_dir, resize=(480, 320)):\n",
    "        super().__init__()\n",
    "        self.data_dir = data_dir\n",
    "        self.resize = resize\n",
    "        files = os.listdir(os.path.join(self.data_dir, 'imgs'))\n",
    "        self.files = [item.split('.')[0] for item in files]\n",
    "        self.mask_values = [0, 1]\n",
    "\n",
    "    def __len__(self):\n",
    "        return len(self.files)\n",
    "\n",
    "    def __getitem__(self, i):\n",
    "        img = self._load_img(self.files[i], is_mask=False)\n",
    "        mask = self._load_img(self.files[i], is_mask=True)\n",
    "\n",
    "        # 转化成 np.array 格式\n",
    "        img = np.asarray(img, dtype=np.float32)\n",
    "        mask = np.asarray(mask, dtype=np.int64)\n",
    "\n",
    "        # 转换成 tensor; # C, H, W; 把通道放在前面; 并且把像素值归一化到 0 到 1 之间\n",
    "        img = torch.from_numpy(img).permute(2, 0, 1) / 255.\n",
    "        mask = torch.from_numpy(mask)\n",
    "\n",
    "        return img, mask\n",
    "\n",
    "    def _load_img(self, file_name, is_mask=False):\n",
    "        data_dir = self.data_dir\n",
    "\n",
    "        # 构造图像的路径\n",
    "        if is_mask:\n",
    "            file_name = file_name + '_mask.gif'\n",
    "            data_dir = os.path.join(data_dir, 'masks')\n",
    "        else:\n",
    "            file_name = file_name + '.jpg'\n",
    "            data_dir = os.path.join(data_dir, 'imgs')\n",
    "\n",
    "        obj = Image.open(os.path.join(data_dir, file_name))  # 从磁盘读取一张图像\n",
    "        obj = obj.resize(size=self.resize)  # 调整图像大小\n",
    "\n",
    "        return obj"
   ],
   "metadata": {
    "collapsed": false,
    "ExecuteTime": {
     "end_time": "2024-05-25T06:44:07.646813Z",
     "start_time": "2024-05-25T06:44:07.640539Z"
    }
   },
   "id": "f3d0e7cb53a89a3"
  },
  {
   "cell_type": "code",
   "execution_count": 5,
   "outputs": [],
   "source": [
    "data_dir = '/Volumes/SSD/SSD/blueberry/datasets/UNet'  # your data path\n",
    "dataset = BasicDataset(data_dir=data_dir)"
   ],
   "metadata": {
    "collapsed": false,
    "ExecuteTime": {
     "end_time": "2024-05-25T06:44:07.737304Z",
     "start_time": "2024-05-25T06:44:07.645668Z"
    }
   },
   "id": "18b8616014fde83"
  },
  {
   "cell_type": "code",
   "execution_count": 6,
   "outputs": [],
   "source": [
    "img, mask = dataset[33]"
   ],
   "metadata": {
    "collapsed": false,
    "ExecuteTime": {
     "end_time": "2024-05-25T06:44:07.877226Z",
     "start_time": "2024-05-25T06:44:07.737916Z"
    }
   },
   "id": "bc8d46ad11ac0391"
  },
  {
   "cell_type": "code",
   "execution_count": 7,
   "outputs": [
    {
     "data": {
      "text/plain": "(torch.Size([3, 320, 480]), torch.Size([320, 480]))"
     },
     "execution_count": 7,
     "metadata": {},
     "output_type": "execute_result"
    }
   ],
   "source": [
    "img.shape, mask.shape"
   ],
   "metadata": {
    "collapsed": false,
    "ExecuteTime": {
     "end_time": "2024-05-25T06:44:07.896970Z",
     "start_time": "2024-05-25T06:44:07.882891Z"
    }
   },
   "id": "9dd804c2a03c4463"
  },
  {
   "cell_type": "code",
   "execution_count": 8,
   "outputs": [
    {
     "data": {
      "text/plain": "5089"
     },
     "execution_count": 8,
     "metadata": {},
     "output_type": "execute_result"
    }
   ],
   "source": [
    "len(dataset)"
   ],
   "metadata": {
    "collapsed": false,
    "ExecuteTime": {
     "end_time": "2024-05-25T06:44:07.897261Z",
     "start_time": "2024-05-25T06:44:07.885172Z"
    }
   },
   "id": "889f07cdc34301cc"
  },
  {
   "cell_type": "code",
   "execution_count": 9,
   "outputs": [],
   "source": [
    "data_loader = DataLoader(dataset, batch_size=64, shuffle=False)"
   ],
   "metadata": {
    "collapsed": false,
    "ExecuteTime": {
     "end_time": "2024-05-25T06:44:07.897383Z",
     "start_time": "2024-05-25T06:44:07.888526Z"
    }
   },
   "id": "a7418db93f6671d3"
  },
  {
   "cell_type": "code",
   "execution_count": 10,
   "outputs": [
    {
     "name": "stdout",
     "output_type": "stream",
     "text": [
      "torch.Size([64, 3, 320, 480])\n",
      "torch.Size([64, 320, 480])\n"
     ]
    }
   ],
   "source": [
    "for img, mask in data_loader:\n",
    "    print(img.shape)\n",
    "    print(mask.shape)\n",
    "    break"
   ],
   "metadata": {
    "collapsed": false,
    "ExecuteTime": {
     "end_time": "2024-05-25T06:44:10.568868Z",
     "start_time": "2024-05-25T06:44:07.891940Z"
    }
   },
   "id": "3e03282a78cc8963"
  }
 ],
 "metadata": {
  "kernelspec": {
   "display_name": "Python 3",
   "language": "python",
   "name": "python3"
  },
  "language_info": {
   "codemirror_mode": {
    "name": "ipython",
    "version": 2
   },
   "file_extension": ".py",
   "mimetype": "text/x-python",
   "name": "python",
   "nbconvert_exporter": "python",
   "pygments_lexer": "ipython2",
   "version": "2.7.6"
  }
 },
 "nbformat": 4,
 "nbformat_minor": 5
}
