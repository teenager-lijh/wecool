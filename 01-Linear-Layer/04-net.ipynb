{
 "cells": [
  {
   "cell_type": "markdown",
   "source": [
    "## 导入相关的包\n",
    "\n",
    "torch 中是一些常用的功能函数\n",
    "\n",
    "torch.nn 中是一些常用的模块"
   ],
   "metadata": {
    "collapsed": false
   },
   "id": "62508eaaf397a456"
  },
  {
   "cell_type": "code",
   "execution_count": 1,
   "id": "initial_id",
   "metadata": {
    "collapsed": true,
    "ExecuteTime": {
     "end_time": "2024-04-10T13:06:51.160053Z",
     "start_time": "2024-04-10T13:06:50.729051Z"
    }
   },
   "outputs": [],
   "source": [
    "import torch\n",
    "from torch import nn\n",
    "\n",
    "\n",
    "# 1             o1\n",
    "# 2             o2\n",
    "# 3             o3\n",
    "# 4             o4\n",
    "# 5             o5\n",
    "\n",
    "\n",
    "# (1, 2, 3, 4)             1  11\n",
    "#                          2  22\n",
    "#                          3  33\n",
    "#                          4  44"
   ]
  },
  {
   "cell_type": "markdown",
   "source": [
    "## 创建全连接层(也叫线性层 Linear Layer)"
   ],
   "metadata": {
    "collapsed": false
   },
   "id": "3b83c1bdfe8712c2"
  },
  {
   "cell_type": "code",
   "execution_count": 2,
   "outputs": [],
   "source": [
    "net = nn.Linear(in_features=1024, out_features=512)"
   ],
   "metadata": {
    "collapsed": false,
    "ExecuteTime": {
     "end_time": "2024-04-10T13:06:51.166090Z",
     "start_time": "2024-04-10T13:06:51.161169Z"
    }
   },
   "id": "202e90586265148e"
  },
  {
   "cell_type": "markdown",
   "source": [
    "## 随机创建一个符合该模块的输入"
   ],
   "metadata": {
    "collapsed": false
   },
   "id": "4a92e2cf55499a12"
  },
  {
   "cell_type": "code",
   "execution_count": 3,
   "outputs": [
    {
     "name": "stdout",
     "output_type": "stream",
     "text": [
      "torch.Size([8, 1024])\n"
     ]
    }
   ],
   "source": [
    "inputs = torch.rand(size=(8, 1024))\n",
    "print(inputs.shape)"
   ],
   "metadata": {
    "collapsed": false,
    "ExecuteTime": {
     "end_time": "2024-04-10T13:06:51.177741Z",
     "start_time": "2024-04-10T13:06:51.164834Z"
    }
   },
   "id": "31204e678a665e26"
  },
  {
   "cell_type": "markdown",
   "source": [
    "## 使用该模块进行 前向传播(前向运算)"
   ],
   "metadata": {
    "collapsed": false
   },
   "id": "287fb39339589e6a"
  },
  {
   "cell_type": "code",
   "execution_count": 4,
   "outputs": [
    {
     "name": "stdout",
     "output_type": "stream",
     "text": [
      "torch.Size([8, 512])\n"
     ]
    }
   ],
   "source": [
    "outputs = net(inputs)  # 前向传播中 使用到了 PyTorch 的广播机制\n",
    "print(outputs.shape)"
   ],
   "metadata": {
    "collapsed": false,
    "ExecuteTime": {
     "end_time": "2024-04-10T13:06:51.178006Z",
     "start_time": "2024-04-10T13:06:51.169534Z"
    }
   },
   "id": "17ebbd242450ac53"
  }
 ],
 "metadata": {
  "kernelspec": {
   "display_name": "Python 3",
   "language": "python",
   "name": "python3"
  },
  "language_info": {
   "codemirror_mode": {
    "name": "ipython",
    "version": 2
   },
   "file_extension": ".py",
   "mimetype": "text/x-python",
   "name": "python",
   "nbconvert_exporter": "python",
   "pygments_lexer": "ipython2",
   "version": "2.7.6"
  }
 },
 "nbformat": 4,
 "nbformat_minor": 5
}
