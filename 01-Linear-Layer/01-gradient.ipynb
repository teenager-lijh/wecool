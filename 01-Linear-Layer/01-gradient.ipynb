{
 "cells": [
  {
   "cell_type": "code",
   "execution_count": 1,
   "id": "initial_id",
   "metadata": {
    "collapsed": true,
    "ExecuteTime": {
     "end_time": "2024-04-11T03:05:05.334294Z",
     "start_time": "2024-04-11T03:05:04.892707Z"
    }
   },
   "outputs": [],
   "source": [
    "import torch"
   ]
  },
  {
   "cell_type": "markdown",
   "source": [
    "## 计算梯度"
   ],
   "metadata": {
    "collapsed": false
   },
   "id": "21557c2817f331fc"
  },
  {
   "cell_type": "code",
   "execution_count": 2,
   "outputs": [
    {
     "data": {
      "text/plain": "(tensor([100.], requires_grad=True),\n tensor([200.], requires_grad=True),\n tensor([300.], requires_grad=True),\n tensor([30.]))"
     },
     "execution_count": 2,
     "metadata": {},
     "output_type": "execute_result"
    }
   ],
   "source": [
    "x1 = torch.tensor([100], dtype=torch.float, requires_grad=True)\n",
    "x2 = torch.tensor([200], dtype=torch.float, requires_grad=True)\n",
    "x3 = torch.tensor([300], dtype=torch.float, requires_grad=True)\n",
    "constant = torch.tensor([30], dtype=torch.float, requires_grad=False)  # 定义一个常量\n",
    "\n",
    "x1, x2, x3, constant"
   ],
   "metadata": {
    "collapsed": false,
    "ExecuteTime": {
     "end_time": "2024-04-11T03:05:05.344793Z",
     "start_time": "2024-04-11T03:05:05.338209Z"
    }
   },
   "id": "faed08058ccbbc71"
  },
  {
   "cell_type": "code",
   "execution_count": 3,
   "outputs": [
    {
     "data": {
      "text/plain": "(torch.Size([1]), torch.Size([1]), torch.Size([1]), tensor([30.]))"
     },
     "execution_count": 3,
     "metadata": {},
     "output_type": "execute_result"
    }
   ],
   "source": [
    "x1.shape, x2.shape, x3.shape, constant"
   ],
   "metadata": {
    "collapsed": false,
    "ExecuteTime": {
     "end_time": "2024-04-11T03:05:05.345189Z",
     "start_time": "2024-04-11T03:05:05.341982Z"
    }
   },
   "id": "81916b3a9affe289"
  },
  {
   "cell_type": "code",
   "execution_count": 4,
   "outputs": [
    {
     "data": {
      "text/plain": "(tensor([10.]), tensor([20.]), tensor([30.]))"
     },
     "execution_count": 4,
     "metadata": {},
     "output_type": "execute_result"
    }
   ],
   "source": [
    "f = 10 * x1 + 20 * x2 + constant * x3  # 前向传播 (前向运算)\n",
    "f.backward()  # 反向传播 -> 求各个参数的偏导数\n",
    "\n",
    "x1.grad, x2.grad, x3.grad"
   ],
   "metadata": {
    "collapsed": false,
    "ExecuteTime": {
     "end_time": "2024-04-11T03:05:05.392699Z",
     "start_time": "2024-04-11T03:05:05.345527Z"
    }
   },
   "id": "40b2931f29962c43"
  },
  {
   "cell_type": "code",
   "execution_count": 5,
   "outputs": [
    {
     "data": {
      "text/plain": "(None, NoneType)"
     },
     "execution_count": 5,
     "metadata": {},
     "output_type": "execute_result"
    }
   ],
   "source": [
    "constant.grad, type(constant.grad)  # 常量没有梯度"
   ],
   "metadata": {
    "collapsed": false,
    "ExecuteTime": {
     "end_time": "2024-04-11T03:05:05.393090Z",
     "start_time": "2024-04-11T03:05:05.360932Z"
    }
   },
   "id": "d233e217051f70f7"
  },
  {
   "cell_type": "markdown",
   "source": [
    "## 更新权重(参数)"
   ],
   "metadata": {
    "collapsed": false
   },
   "id": "8d241244ab7cdbb3"
  },
  {
   "cell_type": "code",
   "execution_count": 6,
   "outputs": [
    {
     "data": {
      "text/plain": "(tensor([99.9000], requires_grad=True),\n tensor([199.8000], requires_grad=True),\n tensor([299.7000], requires_grad=True))"
     },
     "execution_count": 6,
     "metadata": {},
     "output_type": "execute_result"
    }
   ],
   "source": [
    "learning_rate = 0.01  # 学习率\n",
    "\n",
    "# 忽略 requires_grad 属性; 代码块里面所有 tensor 都视为常量 tensor\n",
    "with torch.no_grad():\n",
    "    # 更新每个 tensor 的 data\n",
    "    x1.data = x1.data - learning_rate * x1.grad\n",
    "    x2.data = x2.data - learning_rate * x2.grad\n",
    "    x3.data = x3.data - learning_rate * x3.grad\n",
    "\n",
    "x1, x2, x3"
   ],
   "metadata": {
    "collapsed": false,
    "ExecuteTime": {
     "end_time": "2024-04-11T03:05:05.393432Z",
     "start_time": "2024-04-11T03:05:05.364546Z"
    }
   },
   "id": "404a976d64184df4"
  },
  {
   "cell_type": "markdown",
   "source": [
    "## 梯度是可以累加的"
   ],
   "metadata": {
    "collapsed": false
   },
   "id": "3ae6f28bfde42712"
  },
  {
   "cell_type": "code",
   "execution_count": 7,
   "outputs": [
    {
     "data": {
      "text/plain": "(tensor([20.]), tensor([40.]), tensor([60.]))"
     },
     "execution_count": 7,
     "metadata": {},
     "output_type": "execute_result"
    }
   ],
   "source": [
    "f = 10 * x1 + 20 * x2 + constant * x3  # 前向传播(前向运算)\n",
    "f.backward()  # 反向传播 (求导的过程)\n",
    "\n",
    "x1.grad, x2.grad, x3.grad"
   ],
   "metadata": {
    "collapsed": false,
    "ExecuteTime": {
     "end_time": "2024-04-11T03:05:05.393617Z",
     "start_time": "2024-04-11T03:05:05.368256Z"
    }
   },
   "id": "9e37bd00a25b32c2"
  },
  {
   "cell_type": "markdown",
   "source": [
    "## nn.Parameter 批量化创建权重"
   ],
   "metadata": {
    "collapsed": false
   },
   "id": "c0f8de666013586"
  },
  {
   "cell_type": "code",
   "execution_count": 8,
   "outputs": [
    {
     "data": {
      "text/plain": "(True, False)"
     },
     "execution_count": 8,
     "metadata": {},
     "output_type": "execute_result"
    }
   ],
   "source": [
    "from torch import nn\n",
    "\n",
    "weights = nn.Parameter(torch.ones(size=(512, 512)))\n",
    "weights.requires_grad, weights.data.requires_grad  # 查看 weights 的 requires_grad 属性"
   ],
   "metadata": {
    "collapsed": false,
    "ExecuteTime": {
     "end_time": "2024-04-11T03:05:05.393684Z",
     "start_time": "2024-04-11T03:05:05.372300Z"
    }
   },
   "id": "c6ea32e726e5f54f"
  },
  {
   "cell_type": "code",
   "execution_count": 9,
   "outputs": [
    {
     "data": {
      "text/plain": "Parameter containing:\ntensor([[1., 1., 1.,  ..., 1., 1., 1.],\n        [1., 1., 1.,  ..., 1., 1., 1.],\n        [1., 1., 1.,  ..., 1., 1., 1.],\n        ...,\n        [1., 1., 1.,  ..., 1., 1., 1.],\n        [1., 1., 1.,  ..., 1., 1., 1.],\n        [1., 1., 1.,  ..., 1., 1., 1.]], requires_grad=True)"
     },
     "execution_count": 9,
     "metadata": {},
     "output_type": "execute_result"
    }
   ],
   "source": [
    "weights"
   ],
   "metadata": {
    "collapsed": false,
    "ExecuteTime": {
     "end_time": "2024-04-11T03:05:05.394001Z",
     "start_time": "2024-04-11T03:05:05.375385Z"
    }
   },
   "id": "489558bfb9e5e868"
  },
  {
   "cell_type": "code",
   "execution_count": 10,
   "outputs": [
    {
     "data": {
      "text/plain": "tensor(1.7459e+08, grad_fn=<SumBackward0>)"
     },
     "execution_count": 10,
     "metadata": {},
     "output_type": "execute_result"
    }
   ],
   "source": [
    "X = torch.ones(size=(512, 512)) * 666\n",
    "output = (X * weights).sum()\n",
    "output"
   ],
   "metadata": {
    "collapsed": false,
    "ExecuteTime": {
     "end_time": "2024-04-11T03:05:05.394107Z",
     "start_time": "2024-04-11T03:05:05.378938Z"
    }
   },
   "id": "6fd084c08e13556"
  },
  {
   "cell_type": "code",
   "execution_count": 11,
   "outputs": [
    {
     "data": {
      "text/plain": "tensor([[666., 666., 666.,  ..., 666., 666., 666.],\n        [666., 666., 666.,  ..., 666., 666., 666.],\n        [666., 666., 666.,  ..., 666., 666., 666.],\n        ...,\n        [666., 666., 666.,  ..., 666., 666., 666.],\n        [666., 666., 666.,  ..., 666., 666., 666.],\n        [666., 666., 666.,  ..., 666., 666., 666.]])"
     },
     "execution_count": 11,
     "metadata": {},
     "output_type": "execute_result"
    }
   ],
   "source": [
    "output.backward()\n",
    "weights.grad.data"
   ],
   "metadata": {
    "collapsed": false,
    "ExecuteTime": {
     "end_time": "2024-04-11T03:05:05.394179Z",
     "start_time": "2024-04-11T03:05:05.382592Z"
    }
   },
   "id": "5b9e791ea2f67c86"
  },
  {
   "cell_type": "code",
   "execution_count": null,
   "outputs": [],
   "source": [
    "X.grad"
   ],
   "metadata": {
    "collapsed": false
   },
   "id": "83de0b520e0a176"
  },
  {
   "cell_type": "code",
   "execution_count": 12,
   "outputs": [
    {
     "data": {
      "text/plain": "tensor([[-1331., -1331., -1331.,  ..., -1331., -1331., -1331.],\n        [-1331., -1331., -1331.,  ..., -1331., -1331., -1331.],\n        [-1331., -1331., -1331.,  ..., -1331., -1331., -1331.],\n        ...,\n        [-1331., -1331., -1331.,  ..., -1331., -1331., -1331.],\n        [-1331., -1331., -1331.,  ..., -1331., -1331., -1331.],\n        [-1331., -1331., -1331.,  ..., -1331., -1331., -1331.]])"
     },
     "execution_count": 12,
     "metadata": {},
     "output_type": "execute_result"
    }
   ],
   "source": [
    "learning_rate = 2  # 学习率\n",
    "with torch.no_grad():\n",
    "    weights.data = weights.data - learning_rate * weights.grad.data\n",
    "\n",
    "weights.data"
   ],
   "metadata": {
    "collapsed": false,
    "ExecuteTime": {
     "end_time": "2024-04-11T03:05:05.394289Z",
     "start_time": "2024-04-11T03:05:05.386243Z"
    }
   },
   "id": "b05879a352204a50"
  }
 ],
 "metadata": {
  "kernelspec": {
   "display_name": "Python 3",
   "language": "python",
   "name": "python3"
  },
  "language_info": {
   "codemirror_mode": {
    "name": "ipython",
    "version": 2
   },
   "file_extension": ".py",
   "mimetype": "text/x-python",
   "name": "python",
   "nbconvert_exporter": "python",
   "pygments_lexer": "ipython2",
   "version": "2.7.6"
  }
 },
 "nbformat": 4,
 "nbformat_minor": 5
}
