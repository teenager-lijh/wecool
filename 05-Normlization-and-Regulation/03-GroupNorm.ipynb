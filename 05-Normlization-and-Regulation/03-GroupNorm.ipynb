{
 "cells": [
  {
   "cell_type": "code",
   "execution_count": 9,
   "id": "initial_id",
   "metadata": {
    "collapsed": true,
    "ExecuteTime": {
     "end_time": "2024-04-23T11:52:00.426416Z",
     "start_time": "2024-04-23T11:52:00.223350Z"
    }
   },
   "outputs": [
    {
     "data": {
      "text/plain": "(tensor(0.5000), tensor(0.0833))"
     },
     "execution_count": 9,
     "metadata": {},
     "output_type": "execute_result"
    }
   ],
   "source": [
    "import torch\n",
    "from torch import nn\n",
    "\n",
    "inputs = torch.rand(size=(32, 32, 224, 224))\n",
    "torch.mean(inputs), torch.var(inputs)"
   ]
  },
  {
   "cell_type": "code",
   "execution_count": 10,
   "outputs": [
    {
     "data": {
      "text/plain": "torch.Size([32, 32, 224, 224])"
     },
     "execution_count": 10,
     "metadata": {},
     "output_type": "execute_result"
    }
   ],
   "source": [
    "gn = nn.GroupNorm(num_groups=16, num_channels=32)\n",
    "outputs = gn(inputs)\n",
    "outputs.shape"
   ],
   "metadata": {
    "collapsed": false,
    "ExecuteTime": {
     "end_time": "2024-04-23T11:52:00.475405Z",
     "start_time": "2024-04-23T11:52:00.425085Z"
    }
   },
   "id": "2bddfaae1a1dd5e6"
  },
  {
   "cell_type": "code",
   "execution_count": 10,
   "outputs": [],
   "source": [],
   "metadata": {
    "collapsed": false,
    "ExecuteTime": {
     "end_time": "2024-04-23T11:52:00.484529Z",
     "start_time": "2024-04-23T11:52:00.474016Z"
    }
   },
   "id": "ca670051f62fafdb"
  }
 ],
 "metadata": {
  "kernelspec": {
   "display_name": "Python 3",
   "language": "python",
   "name": "python3"
  },
  "language_info": {
   "codemirror_mode": {
    "name": "ipython",
    "version": 2
   },
   "file_extension": ".py",
   "mimetype": "text/x-python",
   "name": "python",
   "nbconvert_exporter": "python",
   "pygments_lexer": "ipython2",
   "version": "2.7.6"
  }
 },
 "nbformat": 4,
 "nbformat_minor": 5
}
