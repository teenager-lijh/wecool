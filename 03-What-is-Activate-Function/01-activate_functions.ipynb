{
 "cells": [
  {
   "cell_type": "markdown",
   "source": [
    "## 创建一个2行5列的输入"
   ],
   "metadata": {
    "collapsed": false
   },
   "id": "148de61262ad50ce"
  },
  {
   "cell_type": "code",
   "execution_count": 43,
   "id": "initial_id",
   "metadata": {
    "collapsed": true,
    "ExecuteTime": {
     "end_time": "2024-04-11T09:41:20.530873Z",
     "start_time": "2024-04-11T09:41:20.499974Z"
    }
   },
   "outputs": [],
   "source": [
    "import torch\n",
    "from torch import nn\n",
    "import torch.nn.functional as F"
   ]
  },
  {
   "cell_type": "code",
   "execution_count": 44,
   "outputs": [],
   "source": [
    "inputs = torch.tensor([i for i in range(2 * 5)], dtype=torch.float).reshape(2, 5)"
   ],
   "metadata": {
    "collapsed": false,
    "ExecuteTime": {
     "end_time": "2024-04-11T09:41:20.531029Z",
     "start_time": "2024-04-11T09:41:20.503757Z"
    }
   },
   "id": "b404b16f39809339"
  },
  {
   "cell_type": "markdown",
   "source": [
    "## Sigmoid"
   ],
   "metadata": {
    "collapsed": false
   },
   "id": "dc508f3f6d0a6d92"
  },
  {
   "cell_type": "code",
   "execution_count": 45,
   "outputs": [
    {
     "data": {
      "text/plain": "tensor([[0.5000, 0.7311, 0.8808, 0.9526, 0.9820],\n        [0.9933, 0.9975, 0.9991, 0.9997, 0.9999]])"
     },
     "execution_count": 45,
     "metadata": {},
     "output_type": "execute_result"
    }
   ],
   "source": [
    "torch.sigmoid(inputs)"
   ],
   "metadata": {
    "collapsed": false,
    "ExecuteTime": {
     "end_time": "2024-04-11T09:41:20.531545Z",
     "start_time": "2024-04-11T09:41:20.506827Z"
    }
   },
   "id": "9eaec12b5e46e6ed"
  },
  {
   "cell_type": "markdown",
   "source": [
    "## Softmax"
   ],
   "metadata": {
    "collapsed": false
   },
   "id": "f3635d1674e75682"
  },
  {
   "cell_type": "code",
   "execution_count": 46,
   "outputs": [
    {
     "name": "stdout",
     "output_type": "stream",
     "text": [
      "tensor([[0.0117, 0.0317, 0.0861, 0.2341, 0.6364],\n",
      "        [0.0117, 0.0317, 0.0861, 0.2341, 0.6364]])\n"
     ]
    }
   ],
   "source": [
    "# softmax 第一种用法; 函数的形式\n",
    "softmax_outputs = torch.softmax(inputs, dim=1)\n",
    "print(softmax_outputs)"
   ],
   "metadata": {
    "collapsed": false,
    "ExecuteTime": {
     "end_time": "2024-04-11T09:41:20.573401Z",
     "start_time": "2024-04-11T09:41:20.511241Z"
    }
   },
   "id": "6d3fe9bc3bd8e773"
  },
  {
   "cell_type": "code",
   "execution_count": 47,
   "outputs": [
    {
     "data": {
      "text/plain": "tensor([1., 1.])"
     },
     "execution_count": 47,
     "metadata": {},
     "output_type": "execute_result"
    }
   ],
   "source": [
    "torch.sum(softmax_outputs, dim=1)"
   ],
   "metadata": {
    "collapsed": false,
    "ExecuteTime": {
     "end_time": "2024-04-11T09:41:20.588974Z",
     "start_time": "2024-04-11T09:41:20.515316Z"
    }
   },
   "id": "bf1f744744a64a1d"
  },
  {
   "cell_type": "code",
   "execution_count": 48,
   "outputs": [
    {
     "name": "stdout",
     "output_type": "stream",
     "text": [
      "tensor([[0.0117, 0.0317, 0.0861, 0.2341, 0.6364],\n",
      "        [0.0117, 0.0317, 0.0861, 0.2341, 0.6364]])\n"
     ]
    }
   ],
   "source": [
    "# softmax 第二种用法; 面向对象的形式\n",
    "softmax = nn.Softmax(dim=1)\n",
    "softmax_outputs = softmax(inputs)\n",
    "print(softmax_outputs)"
   ],
   "metadata": {
    "collapsed": false,
    "ExecuteTime": {
     "end_time": "2024-04-11T09:41:20.589112Z",
     "start_time": "2024-04-11T09:41:20.519332Z"
    }
   },
   "id": "6ba27a2abfd78a97"
  },
  {
   "cell_type": "code",
   "execution_count": 49,
   "outputs": [
    {
     "data": {
      "text/plain": "tensor([1., 1.])"
     },
     "execution_count": 49,
     "metadata": {},
     "output_type": "execute_result"
    }
   ],
   "source": [
    "torch.sum(softmax_outputs, dim=1)"
   ],
   "metadata": {
    "collapsed": false,
    "ExecuteTime": {
     "end_time": "2024-04-11T09:41:20.589172Z",
     "start_time": "2024-04-11T09:41:20.522692Z"
    }
   },
   "id": "30e449af00726d92"
  },
  {
   "cell_type": "markdown",
   "source": [
    "## ReLU"
   ],
   "metadata": {
    "collapsed": false
   },
   "id": "a9426956218c34f6"
  },
  {
   "cell_type": "code",
   "execution_count": 50,
   "outputs": [
    {
     "data": {
      "text/plain": "tensor([[0., 1., 2., 3., 4.],\n        [5., 6., 7., 8., 9.]])"
     },
     "execution_count": 50,
     "metadata": {},
     "output_type": "execute_result"
    }
   ],
   "source": [
    "inputs"
   ],
   "metadata": {
    "collapsed": false,
    "ExecuteTime": {
     "end_time": "2024-04-11T09:41:20.589229Z",
     "start_time": "2024-04-11T09:41:20.526524Z"
    }
   },
   "id": "4faf3e3c36c59e1a"
  },
  {
   "cell_type": "code",
   "execution_count": 51,
   "outputs": [
    {
     "data": {
      "text/plain": "tensor([[0., 1., 2., 3., 4.],\n        [5., 6., 7., 8., 9.]])"
     },
     "execution_count": 51,
     "metadata": {},
     "output_type": "execute_result"
    }
   ],
   "source": [
    "torch.relu(inputs)"
   ],
   "metadata": {
    "collapsed": false,
    "ExecuteTime": {
     "end_time": "2024-04-11T09:41:20.590156Z",
     "start_time": "2024-04-11T09:41:20.531221Z"
    }
   },
   "id": "b810162faf8ac827"
  },
  {
   "cell_type": "code",
   "execution_count": 52,
   "outputs": [
    {
     "data": {
      "text/plain": "tensor([[0.0000, 0.1000, 0.2000, 0.3000, 0.4000],\n        [0.5000, 0.6000, 0.7000, 0.8000, 0.9000]])"
     },
     "execution_count": 52,
     "metadata": {},
     "output_type": "execute_result"
    }
   ],
   "source": [
    "torch.relu(inputs * 0.1)"
   ],
   "metadata": {
    "collapsed": false,
    "ExecuteTime": {
     "end_time": "2024-04-11T09:41:20.590487Z",
     "start_time": "2024-04-11T09:41:20.534733Z"
    }
   },
   "id": "3f173798e529cba0"
  },
  {
   "cell_type": "markdown",
   "source": [
    "## GELU"
   ],
   "metadata": {
    "collapsed": false
   },
   "id": "ca19a50e90fb8eff"
  },
  {
   "cell_type": "code",
   "execution_count": 53,
   "outputs": [
    {
     "data": {
      "text/plain": "tensor([[0.0000, 0.8413, 1.9545, 2.9960, 3.9999],\n        [5.0000, 6.0000, 7.0000, 8.0000, 9.0000]])"
     },
     "execution_count": 53,
     "metadata": {},
     "output_type": "execute_result"
    }
   ],
   "source": [
    "F.gelu(inputs)"
   ],
   "metadata": {
    "collapsed": false,
    "ExecuteTime": {
     "end_time": "2024-04-11T09:41:20.590604Z",
     "start_time": "2024-04-11T09:41:20.538229Z"
    }
   },
   "id": "4474b1dccfe44603"
  },
  {
   "cell_type": "markdown",
   "source": [
    "## 如果不用激活函数会怎样\n",
    "\n",
    "看这篇文章最后的部分来理解：\n",
    "\n",
    "[传送门](https://mp.weixin.qq.com/s/RujQDitVdhj2K7Geltwxhw)"
   ],
   "metadata": {
    "collapsed": false
   },
   "id": "95a7b58af56662e3"
  }
 ],
 "metadata": {
  "kernelspec": {
   "display_name": "Python 3",
   "language": "python",
   "name": "python3"
  },
  "language_info": {
   "codemirror_mode": {
    "name": "ipython",
    "version": 2
   },
   "file_extension": ".py",
   "mimetype": "text/x-python",
   "name": "python",
   "nbconvert_exporter": "python",
   "pygments_lexer": "ipython2",
   "version": "2.7.6"
  }
 },
 "nbformat": 4,
 "nbformat_minor": 5
}
