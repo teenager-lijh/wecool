{
 "cells": [
  {
   "cell_type": "code",
   "execution_count": 97,
   "outputs": [],
   "source": [
    "import torch\n",
    "from torch import nn"
   ],
   "metadata": {
    "collapsed": false,
    "ExecuteTime": {
     "end_time": "2024-04-11T09:04:21.531497Z",
     "start_time": "2024-04-11T09:04:21.499799Z"
    }
   },
   "id": "735c101a032cdb6a"
  },
  {
   "cell_type": "code",
   "execution_count": 98,
   "outputs": [],
   "source": [
    "# 创建模型\n",
    "net = nn.Linear(1024, 512)\n",
    "\n",
    "# 创建优化器 -> 让你更方便的更新权重\n",
    "optimizer = torch.optim.SGD(net.parameters(), lr=1)"
   ],
   "metadata": {
    "collapsed": false,
    "ExecuteTime": {
     "end_time": "2024-04-11T09:04:21.532343Z",
     "start_time": "2024-04-11T09:04:21.505084Z"
    }
   },
   "id": "cdde87ef44063c10"
  },
  {
   "cell_type": "markdown",
   "source": [
    "## 构造一个输入"
   ],
   "metadata": {
    "collapsed": false
   },
   "id": "ae8cb67da7fb73e2"
  },
  {
   "cell_type": "code",
   "execution_count": 99,
   "outputs": [],
   "source": [
    "inputs = torch.ones(size=(8, 1024))"
   ],
   "metadata": {
    "collapsed": false,
    "ExecuteTime": {
     "end_time": "2024-04-11T09:04:21.532997Z",
     "start_time": "2024-04-11T09:04:21.511099Z"
    }
   },
   "id": "b66a7fc871718bf0"
  },
  {
   "cell_type": "code",
   "execution_count": 100,
   "outputs": [],
   "source": [
    "outputs = net(inputs).sum()\n",
    "outputs.backward()"
   ],
   "metadata": {
    "collapsed": false,
    "ExecuteTime": {
     "end_time": "2024-04-11T09:04:21.559342Z",
     "start_time": "2024-04-11T09:04:21.514834Z"
    }
   },
   "id": "5228c15fbe38f30d"
  },
  {
   "cell_type": "markdown",
   "source": [
    "## 看看权重是否发生了变化"
   ],
   "metadata": {
    "collapsed": false
   },
   "id": "a10bb9bae519c8a0"
  },
  {
   "cell_type": "code",
   "execution_count": 101,
   "outputs": [
    {
     "data": {
      "text/plain": "torch.Size([512, 1024])"
     },
     "execution_count": 101,
     "metadata": {},
     "output_type": "execute_result"
    }
   ],
   "source": [
    "net.weight.shape"
   ],
   "metadata": {
    "collapsed": false,
    "ExecuteTime": {
     "end_time": "2024-04-11T09:04:21.559747Z",
     "start_time": "2024-04-11T09:04:21.520464Z"
    }
   },
   "id": "bdf28dc049627f95"
  },
  {
   "cell_type": "code",
   "execution_count": 102,
   "outputs": [
    {
     "name": "stdout",
     "output_type": "stream",
     "text": [
      "tensor(0.0047, grad_fn=<SelectBackward0>) tensor(8.)\n"
     ]
    }
   ],
   "source": [
    "print(net.weight[0][0], net.weight.grad[0][0])"
   ],
   "metadata": {
    "collapsed": false,
    "ExecuteTime": {
     "end_time": "2024-04-11T09:04:21.559832Z",
     "start_time": "2024-04-11T09:04:21.524065Z"
    }
   },
   "id": "564b210fa539336d"
  },
  {
   "cell_type": "code",
   "execution_count": 103,
   "outputs": [],
   "source": [
    "optimizer.step()  # 更新权重"
   ],
   "metadata": {
    "collapsed": false,
    "ExecuteTime": {
     "end_time": "2024-04-11T09:04:21.559873Z",
     "start_time": "2024-04-11T09:04:21.528311Z"
    }
   },
   "id": "79d344627ddc7ce7"
  },
  {
   "cell_type": "markdown",
   "source": [
    "## 看看权重变成了什么"
   ],
   "metadata": {
    "collapsed": false
   },
   "id": "f2c1a900d67f2ee5"
  },
  {
   "cell_type": "code",
   "execution_count": 104,
   "outputs": [
    {
     "name": "stdout",
     "output_type": "stream",
     "text": [
      "tensor(-7.9953, grad_fn=<SelectBackward0>) tensor(8.)\n"
     ]
    }
   ],
   "source": [
    "print(net.weight[0][0], net.weight.grad[0][0])"
   ],
   "metadata": {
    "collapsed": false,
    "ExecuteTime": {
     "end_time": "2024-04-11T09:04:21.560982Z",
     "start_time": "2024-04-11T09:04:21.532131Z"
    }
   },
   "id": "c945c18036a5d90f"
  },
  {
   "cell_type": "markdown",
   "source": [
    "## 如何让梯度置零"
   ],
   "metadata": {
    "collapsed": false
   },
   "id": "9d5ea13618e16793"
  },
  {
   "cell_type": "code",
   "execution_count": 105,
   "outputs": [
    {
     "name": "stdout",
     "output_type": "stream",
     "text": [
      "tensor(-7.9953, grad_fn=<SelectBackward0>) tensor(0.)\n"
     ]
    }
   ],
   "source": [
    "optimizer.zero_grad()\n",
    "print(net.weight[0][0], net.weight.grad[0][0])"
   ],
   "metadata": {
    "collapsed": false,
    "ExecuteTime": {
     "end_time": "2024-04-11T09:05:32.545864Z",
     "start_time": "2024-04-11T09:05:32.518620Z"
    }
   },
   "id": "d96019818bd1ffd8"
  }
 ],
 "metadata": {
  "kernelspec": {
   "display_name": "Python 3",
   "language": "python",
   "name": "python3"
  },
  "language_info": {
   "codemirror_mode": {
    "name": "ipython",
    "version": 2
   },
   "file_extension": ".py",
   "mimetype": "text/x-python",
   "name": "python",
   "nbconvert_exporter": "python",
   "pygments_lexer": "ipython2",
   "version": "2.7.6"
  }
 },
 "nbformat": 4,
 "nbformat_minor": 5
}
