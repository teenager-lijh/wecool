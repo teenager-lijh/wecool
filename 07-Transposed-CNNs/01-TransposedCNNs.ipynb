{
 "cells": [
  {
   "cell_type": "code",
   "execution_count": 7,
   "id": "initial_id",
   "metadata": {
    "collapsed": true,
    "ExecuteTime": {
     "end_time": "2024-04-23T11:52:51.197530Z",
     "start_time": "2024-04-23T11:52:51.189512Z"
    }
   },
   "outputs": [],
   "source": [
    "import torch\n",
    "from torch import nn"
   ]
  },
  {
   "cell_type": "code",
   "execution_count": 8,
   "outputs": [],
   "source": [
    "inputs = torch.rand(size=(8, 3, 224, 224))"
   ],
   "metadata": {
    "collapsed": false,
    "ExecuteTime": {
     "end_time": "2024-04-23T11:52:51.206379Z",
     "start_time": "2024-04-23T11:52:51.194700Z"
    }
   },
   "id": "46713371a4470344"
  },
  {
   "cell_type": "code",
   "execution_count": 9,
   "outputs": [
    {
     "data": {
      "text/plain": "torch.Size([8, 16, 112, 112])"
     },
     "execution_count": 9,
     "metadata": {},
     "output_type": "execute_result"
    }
   ],
   "source": [
    "down = nn.Conv2d(in_channels=3, out_channels=16, kernel_size=2, stride=2)\n",
    "outputs = down(inputs)\n",
    "outputs.shape"
   ],
   "metadata": {
    "collapsed": false,
    "ExecuteTime": {
     "end_time": "2024-04-23T11:52:51.210250Z",
     "start_time": "2024-04-23T11:52:51.203400Z"
    }
   },
   "id": "60e01856243b2002"
  },
  {
   "cell_type": "code",
   "execution_count": 10,
   "outputs": [
    {
     "data": {
      "text/plain": "torch.Size([8, 16, 448, 448])"
     },
     "execution_count": 10,
     "metadata": {},
     "output_type": "execute_result"
    }
   ],
   "source": [
    "up = nn.ConvTranspose2d(in_channels=3, out_channels=16, kernel_size=2, stride=2)\n",
    "outputs = up(inputs)\n",
    "outputs.shape"
   ],
   "metadata": {
    "collapsed": false,
    "ExecuteTime": {
     "end_time": "2024-04-23T11:53:36.245590Z",
     "start_time": "2024-04-23T11:53:36.188573Z"
    }
   },
   "id": "49ac37c8990c5136"
  },
  {
   "cell_type": "code",
   "execution_count": null,
   "outputs": [],
   "source": [],
   "metadata": {
    "collapsed": false
   },
   "id": "c7ec2eaaab045592"
  }
 ],
 "metadata": {
  "kernelspec": {
   "display_name": "Python 3",
   "language": "python",
   "name": "python3"
  },
  "language_info": {
   "codemirror_mode": {
    "name": "ipython",
    "version": 2
   },
   "file_extension": ".py",
   "mimetype": "text/x-python",
   "name": "python",
   "nbconvert_exporter": "python",
   "pygments_lexer": "ipython2",
   "version": "2.7.6"
  }
 },
 "nbformat": 4,
 "nbformat_minor": 5
}
